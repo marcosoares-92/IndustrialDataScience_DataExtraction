{
    "metadata": {
        "kernelspec": {
            "display_name": "Python 3",
            "language": "python",
            "name": "python3"
        },
        "language_info": {
            "codemirror_mode": {
                "name": "ipython",
                "version": 3
            },
            "file_extension": ".py",
            "mimetype": "text/x-python",
            "name": "python",
            "nbconvert_exporter": "python",
            "pygments_lexer": "ipython3",
            "version": "3.10.9"
        },
        "instance_type": "ml.t3.medium"
    },
    "nbformat_minor": 2,
    "nbformat": 4,
    "cells": [
        {
            "cell_type": "markdown",
            "source": [
                "# **Data Pipelines APIs**"
            ],
            "metadata": {
                "azdata_cell_guid": "56e88df2-940c-4c28-aed4-129d8f9624e3"
            }
        },
        {
            "cell_type": "markdown",
            "source": [
                "## _Data Extraction Workflow Notebook 1_"
            ],
            "metadata": {
                "azdata_cell_guid": "5de346f0-9c91-4407-a651-c3e29cd3c122"
            }
        },
        {
            "cell_type": "markdown",
            "source": [
                "## Content:\n",
                "1. Fetching or updating a SQLite database;\n",
                "2. Mounting the storage system (S3 or Google Drive);\n",
                "3. Loading previously obtained Pandas dataframe;\n",
                "4. Concatenating (SQL UNION) multiple dataframes;\n",
                "6. Removing duplicate rows from the dataframe;\n",
                "7. Exporting the dataframe as CSV File (to notebook's workspace);\n",
                "8. Importing or exporting models, lists, or dictionaries;\n",
                "9. Downloading a file from Google Colab to the local machine; or uploading a file from the machine to Colab's instant memory;\n",
                "10. Exporting a list of files from notebook's workspace to AWS Simple Storage Service (S3)."
            ],
            "metadata": {
                "azdata_cell_guid": "b76328b1-fd4d-4d2d-a04a-db2bcec1990d"
            }
        },
        {
            "cell_type": "markdown",
            "source": [
                "Marco Cesar Prado Soares, Data Scientist Specialist - Bayer Crop Science LATAM\n",
                "- marcosoares.feq@gmail.com\n",
                "- marco.soares@bayer.com"
            ],
            "metadata": {
                "azdata_cell_guid": "c66b1173-e6ca-4990-bc83-3c20a9318267"
            }
        },
        {
            "cell_type": "markdown",
            "source": [
                "## **Load Python Libraries in Global Context**"
            ],
            "metadata": {
                "azdata_cell_guid": "8dd5c4f4-f98c-457d-a4a9-42647d13fbea"
            }
        },
        {
            "cell_type": "code",
            "source": [
                "import load\n",
                "from idsw import *"
            ],
            "metadata": {
                "azdata_cell_guid": "69207e17-a485-420d-a8af-415e9686c30c",
                "language": "python"
            },
            "outputs": [],
            "execution_count": 4
        },
        {
            "cell_type": "markdown",
            "source": [
                "## **Call the functions**"
            ],
            "metadata": {
                "azdata_cell_guid": "5aebe18e-c82f-48c4-8e93-9c735c5ad6b1",
                "id": "zHUhoX1XyHHm"
            }
        },
        {
            "cell_type": "markdown",
            "source": [
                "### **Mounting Google Drive or S3 (AWS Simple Storage Service) bucket**"
            ],
            "metadata": {
                "azdata_cell_guid": "76e4a971-c31b-4754-8a28-51ac02c482c0",
                "id": "zHUhoX1XyHHm"
            }
        },
        {
            "cell_type": "code",
            "source": [
                "SOURCE = 'aws'\n",
                "# SOURCE = 'google' for mounting the google drive;\n",
                "# SOURCE = 'aws' for accessing an AWS S3 bucket\n",
                "\n",
                "## THE FOLLOWING PARAMETERS HAVE EFFECT ONLY WHEN SOURCE == 'aws':\n",
                "\n",
                "PATH_TO_STORE_IMPORTED_S3_BUCKET = ''\n",
                "# PATH_TO_STORE_IMPORTED_S3_BUCKET: path of the Python environment to which the\n",
                "# S3 bucket contents will be imported. If it is None; or if it is an empty string; or if \n",
                "# PATH_TO_STORE_IMPORTED_S3_BUCKET = '/', bucket will be imported to the root path. \n",
                "# Alternatively, input the path as a string (in quotes). e.g. \n",
                "# PATH_TO_STORE_IMPORTED_S3_BUCKET = 'copied_s3_bucket'\n",
                "\n",
                "S3_BUCKET_NAME = 'my_bucket'\n",
                "## This parameter is obbligatory to access an AWS S3 bucket. Substitute it for a string\n",
                "# with the bucket's name. e.g. s3_bucket_name = \"aws-bucket-1\" access a bucket named as\n",
                "# \"aws-bucket-1\"\n",
                "\n",
                "S3_OBJECT_FOLDER_PREFIX = \"\"\n",
                "# S3_OBJECT_FOLDER_PREFIX = None. Keep it None; or as an empty string \n",
                "# (S3_OBJECT_FOLDER_PREFIX = ''); or as the root \"/\" to import the \n",
                "# whole bucket content, instead of a single object from it.\n",
                "# Alternatively, set it as a string containing the subfolder from the bucket to import:\n",
                "# Suppose that your bucket (admin-created) has four objects with the following object \n",
                "# keys: Development/Projects1.xls; Finance/statement1.pdf; Private/taxdocument.pdf; and\n",
                "# s3-dg.pdf. \n",
                "# The s3-dg.pdf key does not have a prefix, so its object appears directly \n",
                "# at the root level of the bucket. If you open the Development/ folder, you see \n",
                "# the Projects.xlsx object in it.\n",
                "# In summary, if the path of the file is: 'bucket/my_path/.../file.csv'\n",
                "# where 'bucket' is the bucket's name, prefix = 'my_path/.../', without the\n",
                "# 'file.csv' (file name with extension) last part.\n",
                "\n",
                "# So, declare the prefix as S3_OBJECT_FOLDER_PREFIX to import only files from\n",
                "# a given folder (directory) of the bucket.\n",
                "# DO NOT PUT A SLASH before (to the right of) the prefix;\n",
                "# DO NOT ADD THE BUCKET'S NAME TO THE right of the prefix:\n",
                "# S3_OBJECT_FOLDER_PREFIX = \"bucket_directory1/.../bucket_directoryN/\"\n",
                "\n",
                "# Alternatively, provide the full path of a given file if you want to import only it:\n",
                "# S3_OBJECT_FOLDER_PREFIX = \"bucket_directory1/.../bucket_directoryN/my_file.ext\"\n",
                "# where my_file is the file's name, and ext is its extension.\n",
                "\n",
                "\n",
                "# Attention: after running this function for fetching AWS Simple Storage System (S3), \n",
                "# your 'AWS Access key ID' and your 'Secret access key' will be requested.\n",
                "# The 'Secret access key' will be hidden through dots, so it cannot be visualized or copied by\n",
                "# other users. On the other hand, the same is not true for 'Access key ID', the bucket's name \n",
                "# and the prefix. All of these are sensitive information from the organization.\n",
                "# Therefore, after importing the information, always remember of cleaning the output of this cell\n",
                "# and of removing such information from the strings.\n",
                "# Remember that these data may contain privilege for accessing protected information, \n",
                "# so it should not be used for non-authorized people.\n",
                "\n",
                "# Also, remember of deleting the imported files from the workspace after finishing the analysis.\n",
                "# The costs for storing the files in S3 is quite inferior than those for storing directly in the\n",
                "# workspace. Also, files stored in S3 may be accessed for other users than those with access to\n",
                "# the notebook's workspace.\n",
                "mount_storage_system (source = SOURCE, path_to_store_imported_s3_bucket = PATH_TO_STORE_IMPORTED_S3_BUCKET, s3_bucket_name = S3_BUCKET_NAME, s3_obj_prefix = S3_OBJECT_FOLDER_PREFIX)"
            ],
            "metadata": {
                "azdata_cell_guid": "690cf60b-77cc-4e3f-a988-4f40b6a8bebf",
                "language": "python"
            },
            "outputs": [],
            "execution_count": null
        },
        {
            "cell_type": "markdown",
            "source": [
                "### **Importing the dataset**"
            ],
            "metadata": {
                "azdata_cell_guid": "1b6905a6-c24c-4a67-8fe0-4e094e583bb8",
                "id": "zHUhoX1XyHHm"
            }
        },
        {
            "cell_type": "code",
            "source": [
                "## WARNING: Use this function to load dataframes stored on Excel (xls, xlsx, xlsm, xlsb, odf, ods and odt), \n",
                "## JSON, txt, or CSV (comma separated values) files. Tables in webpages or html files can also be read.\n",
                "\n",
                "FILE_DIRECTORY_PATH = \"\"\n",
                "# FILE_DIRECTORY_PATH - (string, in quotes): input the path of the directory \n",
                "# (e.g. folder path) where the file is stored. e.g. FILE_DIRECTORY_PATH = \"\" \n",
                "# or FILE_DIRECTORY_PATH = \"folder\"\n",
                "\n",
                "FILE_NAME_WITH_EXTENSION = \"dataset.csv\"\n",
                "# FILE_NAME_WITH_EXTENSION - (string, in quotes): input the name of the file with the \n",
                "# extension. e.g. FILE_NAME_WITH_EXTENSION = \"file.xlsx\", or, \n",
                "# FILE_NAME_WITH_EXTENSION = \"file.csv\", \"file.txt\", or \"file.json\"\n",
                "# Again, the extensions may be: xls, xlsx, xlsm, xlsb, odf, ods, odt, json, txt or csv.\n",
                "# Also, html files and webpages may be also read.\n",
                "\n",
                "# You may input the path for an HTML file containing a table to be read; or \n",
                "# a string containing the address for a webpage containing the table. The address must start\n",
                "# with www or htpp. If a website is input, the full address can be input as FILE_DIRECTORY_PATH\n",
                "# or as FILE_NAME_WITH_EXTENSION.\n",
                "\n",
                "LOAD_TXT_FILE_WITH_JSON_FORMAT = False\n",
                "# LOAD_TXT_FILE_WITH_JSON_FORMAT = False. Set LOAD_TXT_FILE_WITH_JSON_FORMAT = True \n",
                "# if you want to read a file with txt extension containing a text formatted as JSON \n",
                "# (but not saved as JSON).\n",
                "# WARNING: if LOAD_TXT_FILE_WITH_JSON_FORMAT = True, all the JSON file parameters of the \n",
                "# function (below) must be set. If not, an error message will be raised.\n",
                "\n",
                "HOW_MISSING_VALUES_ARE_REGISTERED = None\n",
                "# HOW_MISSING_VALUES_ARE_REGISTERED = None: keep it None if missing values are registered as None,\n",
                "# empty or np.nan. Pandas automatically converts None to NumPy np.nan objects (floats).\n",
                "# This parameter manipulates the argument na_values (default: None) from Pandas functions.\n",
                "# By default the following values are interpreted as NaN: ‘’, ‘#N/A’, ‘#N/A N/A’, ‘#NA’, ‘-1.#IND’, \n",
                "#‘-1.#QNAN’, ‘-NaN’, ‘-nan’, ‘1.#IND’, ‘1.#QNAN’, ‘<NA>’, ‘N/A’, ‘NA’, ‘NULL’, ‘NaN’, \n",
                "# ‘n/a’, ‘nan’, ‘null’.\n",
                "\n",
                "# If a different denomination is used, indicate it as a string. e.g.\n",
                "# HOW_MISSING_VALUES_ARE_REGISTERED = '.' will convert all strings '.' to missing values;\n",
                "# HOW_MISSING_VALUES_ARE_REGISTERED = 0 will convert zeros to missing values.\n",
                "\n",
                "# If dict passed, specific per-column NA values. For example, if zero is the missing value\n",
                "# only in column 'numeric_col', you can specify the following dictionary:\n",
                "# how_missing_values_are_registered = {'numeric-col': 0}\n",
                "\n",
                "    \n",
                "HAS_HEADER = True\n",
                "# HAS_HEADER = True if the the imported table has headers (row with columns names).\n",
                "# Alternatively, HAS_HEADER = False if the dataframe does not have header.\n",
                "\n",
                "DECIMAL_SEPARATOR = '.'\n",
                "# DECIMAL_SEPARATOR = '.' - String. Keep it '.' or None to use the period ('.') as\n",
                "# the decimal separator. Alternatively, specify here the separator.\n",
                "# e.g. DECIMAL_SEPARATOR = ',' will set the comma as the separator.\n",
                "# It manipulates the argument 'decimal' from Pandas functions.\n",
                "\n",
                "TXT_CSV_COL_SEP = \"comma\"\n",
                "# txt_csv_col_sep = \"comma\" - This parameter has effect only when the file is a 'txt'\n",
                "# or 'csv'. It informs how the different columns are separated.\n",
                "# Alternatively, txt_csv_col_sep = \"comma\", or txt_csv_col_sep = \",\" \n",
                "# for columns separated by comma;\n",
                "# txt_csv_col_sep = \"whitespace\", or txt_csv_col_sep = \" \" \n",
                "# for columns separated by simple spaces.\n",
                "# You can also set a specific separator as string. For example:\n",
                "# txt_csv_col_sep = '\\s+'; or txt_csv_col_sep = '\\t' (in this last example, the tabulation\n",
                "# is used as separator for the columns - '\\t' represents the tab character).\n",
                "\n",
                "## Parameters for loading Excel files:\n",
                "\n",
                "LOAD_ALL_SHEETS_AT_ONCE = False\n",
                "# LOAD_ALL_SHEETS_AT_ONCE = False - This parameter has effect only when for Excel files.\n",
                "# If LOAD_ALL_SHEETS_AT_ONCE = True, the function will return a list of dictionaries, each\n",
                "# dictionary containing 2 key-value pairs: the first key will be 'sheet', and its\n",
                "# value will be the name (or number) of the table (sheet). The second key will be 'df',\n",
                "# and its value will be the pandas dataframe object obtained from that sheet.\n",
                "# This argument has preference over SHEET_TO_LOAD. If it is True, all sheets will be loaded.\n",
                "    \n",
                "SHEET_TO_LOAD = None\n",
                "# SHEET_TO_LOAD - This parameter has effect only when for Excel files.\n",
                "# keep SHEET_TO_LOAD = None not to specify a sheet of the file, so that the first sheet\n",
                "# will be loaded.\n",
                "# SHEET_TO_LOAD may be an integer or an string (inside quotes). SHEET_TO_LOAD = 0\n",
                "# loads the first sheet (sheet with index 0); SHEET_TO_LOAD = 1 loads the second sheet\n",
                "# of the file (index 1); SHEET_TO_LOAD = \"Sheet1\" loads a sheet named as \"Sheet1\".\n",
                "# Declare a number to load the sheet with that index, starting from 0; or declare a\n",
                "# name to load the sheet with that name.\n",
                "\n",
                "## Parameters for loading JSON files:\n",
                "\n",
                "JSON_RECORD_PATH = None\n",
                "# JSON_RECORD_PATH (string): manipulate parameter 'record_path' from json_normalize method.\n",
                "# Path in each object to list of records. If not passed, data will be assumed to \n",
                "# be an array of records. If a given field from the JSON stores a nested JSON (or a nested\n",
                "# dictionary) declare it here to decompose the content of the nested data. e.g. if the field\n",
                "# 'books' stores a nested JSON, declare, JSON_RECORD_PATH = 'books'\n",
                "\n",
                "JSON_FIELD_SEPARATOR = \"_\"\n",
                "# JSON_FIELD_SEPARATOR = \"_\" (string). Manipulates the parameter 'sep' from json_normalize method.\n",
                "# Nested records will generate names separated by sep. \n",
                "# e.g., for JSON_FIELD_SEPARATOR = \".\", {‘foo’: {‘bar’: 0}} -> foo.bar.\n",
                "# Then, if a given field 'main_field' stores a nested JSON with fields 'field1', 'field2', ...\n",
                "# the name of the columns of the dataframe will be formed by concatenating 'main_field', the\n",
                "# separator, and the names of the nested fields: 'main_field_field1', 'main_field_field2',...\n",
                "\n",
                "JSON_METADATA_PREFIX_LIST = None\n",
                "# JSON_METADATA_PREFIX_LIST: list of strings (in quotes). Manipulates the parameter \n",
                "# 'meta' from json_normalize method. Fields to use as metadata for each record in resulting \n",
                "# table. Declare here the non-nested fields, i.e., the fields in the principal JSON. They\n",
                "# will be repeated in the rows of the dataframe to give the metadata (context) of the rows.\n",
                "\n",
                "# e.g. Suppose a JSON with the following structure: {'name': 'Mary', 'last': 'Shelley',\n",
                "# 'books': [{'title': 'Frankestein', 'year': 1818}, {'title': 'Mathilda ', 'year': 1819},{'title': 'The Last Man', 'year': 1826}]},\n",
                "# Here, there are nested JSONs in the field 'books'. The fields that are not nested\n",
                "# are 'name' and 'last'.\n",
                "# Then, JSON_RECORD_PATH = 'books'\n",
                "# JSON_METADATA_PREFIX_LIST = ['name', 'last']\n",
                "\n",
                "\n",
                "# The dataframe will be stored in the object named 'dataset':\n",
                "# Simply modify this object on the left of equality:\n",
                "dataset = load_pandas_dataframe (file_directory_path = FILE_DIRECTORY_PATH, file_name_with_extension = FILE_NAME_WITH_EXTENSION, load_txt_file_with_json_format = LOAD_TXT_FILE_WITH_JSON_FORMAT, how_missing_values_are_registered = HOW_MISSING_VALUES_ARE_REGISTERED, has_header = HAS_HEADER, decimal_separator = DECIMAL_SEPARATOR, txt_csv_col_sep = TXT_CSV_COL_SEP, load_all_sheets_at_once = LOAD_ALL_SHEETS_AT_ONCE, sheet_to_load = SHEET_TO_LOAD, json_record_path = JSON_RECORD_PATH, json_field_separator = JSON_FIELD_SEPARATOR, json_metadata_prefix_list = JSON_METADATA_PREFIX_LIST)\n",
                "\n",
                "# OBS: If an Excel file is loaded and LOAD_ALL_SHEETS_AT_ONCE = True, then the object\n",
                "# dataset will be a list of dictionaries, with 'sheet' as key containing the sheet name; and 'df'\n",
                "# as key correspondent to the Pandas dataframe. So, to access the 3rd dataframe (index 2, since\n",
                "# indexing starts from zero): df = dataframe[2]['df'], where dataframe is the list returned."
            ],
            "metadata": {
                "azdata_cell_guid": "9dd2b372-3eb0-4f93-9348-22998698a043",
                "language": "python"
            },
            "outputs": [],
            "execution_count": null
        },
        {
            "cell_type": "markdown",
            "source": [
                "### **Converting JSON object to dataframe**\n",
                "- Objects may be:\n",
                "    - String with JSON formatted text;\n",
                "    - List with nested dictionaries (JSON formatted);\n",
                "    - Each dictionary may contain nested dictionaries, or nested lists of dictionaries (nested JSON)."
            ],
            "metadata": {
                "azdata_cell_guid": "4deb9a6f-ba7a-41af-843f-d5e3a82b995a"
            }
        },
        {
            "cell_type": "code",
            "source": [
                "# JSON object in terms of Python structure: list of dictionaries, where each value of a\n",
                "# dictionary may be a dictionary or a list of dictionaries (nested structures).\n",
                "# example of highly nested structure saved as a list 'json_formatted_list'. Note that the same\n",
                "# structure could be declared and stored into a string variable. For instance, if you have a txt\n",
                "# file containing JSON, you could read the txt and save its content as a string.\n",
                "# json_formatted_list = [{'field1': val1, 'field2': {'dict_val': dict_val}, 'field3': [{\n",
                "# 'nest1': nest_val1}, {'nest2': nestval2}]}, {'field1': val1, 'field2': {'dict_val': dict_val}, \n",
                "# 'field3': [{'nest1': nest_val1}, {'nest2': nestval2}]}]\n",
                "\n",
                "JSON_OBJ_TO_CONVERT = json_object #Alternatively: object containing the JSON to be converted\n",
                "\n",
                "# JSON_OBJ_TO_CONVERT: object containing JSON, or string with JSON content to parse.\n",
                "# Objects may be: string with JSON formatted text;\n",
                "# list with nested dictionaries (JSON formatted);\n",
                "# dictionaries, possibly with nested dictionaries (JSON formatted).\n",
                "\n",
                "JSON_OBJ_TYPE = 'list'\n",
                "# JSON_OBJ_TYPE = 'list', in case the object was saved as a list of dictionaries (JSON format)\n",
                "# JSON_OBJ_TYPE = 'string', in case it was saved as a string (text) containing JSON.\n",
                "\n",
                "## Parameters for loading JSON files:\n",
                "\n",
                "JSON_RECORD_PATH = None\n",
                "# JSON_RECORD_PATH (string): manipulate parameter 'record_path' from json_normalize method.\n",
                "# Path in each object to list of records. If not passed, data will be assumed to \n",
                "# be an array of records. If a given field from the JSON stores a nested JSON (or a nested\n",
                "# dictionary) declare it here to decompose the content of the nested data. e.g. if the field\n",
                "# 'books' stores a nested JSON, declare, JSON_RECORD_PATH = 'books'\n",
                "\n",
                "JSON_FIELD_SEPARATOR = \"_\"\n",
                "# JSON_FIELD_SEPARATOR = \"_\" (string). Manipulates the parameter 'sep' from json_normalize method.\n",
                "# Nested records will generate names separated by sep. \n",
                "# e.g., for JSON_FIELD_SEPARATOR = \".\", {‘foo’: {‘bar’: 0}} -> foo.bar.\n",
                "# Then, if a given field 'main_field' stores a nested JSON with fields 'field1', 'field2', ...\n",
                "# the name of the columns of the dataframe will be formed by concatenating 'main_field', the\n",
                "# separator, and the names of the nested fields: 'main_field_field1', 'main_field_field2',...\n",
                "\n",
                "JSON_METADATA_PREFIX_LIST = None\n",
                "# JSON_METADATA_PREFIX_LIST: list of strings (in quotes). Manipulates the parameter \n",
                "# 'meta' from json_normalize method. Fields to use as metadata for each record in resulting \n",
                "# table. Declare here the non-nested fields, i.e., the fields in the principal JSON. They\n",
                "# will be repeated in the rows of the dataframe to give the metadata (context) of the rows.\n",
                "\n",
                "# e.g. Suppose a JSON with the following structure: [{'name': 'Mary', 'last': 'Shelley',\n",
                "# 'books': [{'title': 'Frankestein', 'year': 1818}, {'title': 'Mathilda ', 'year': 1819},{'title': 'The Last Man', 'year': 1826}]}]\n",
                "# Here, there are nested JSONs in the field 'books'. The fields that are not nested\n",
                "# are 'name' and 'last'.\n",
                "# Then, JSON_RECORD_PATH = 'books'\n",
                "# JSON_METADATA_PREFIX_LIST = ['name', 'last']\n",
                "\n",
                "\n",
                "# The dataframe will be stored in the object named 'dataset':\n",
                "# Simply modify this object on the left of equality:\n",
                "dataset = json_obj_to_pandas_dataframe (json_obj_to_convert = JSON_OBJ_TO_CONVERT, json_obj_type = JSON_OBJ_TYPE, json_record_path = JSON_RECORD_PATH, json_field_separator = JSON_FIELD_SEPARATOR, json_metadata_prefix_list = JSON_METADATA_PREFIX_LIST)"
            ],
            "metadata": {
                "azdata_cell_guid": "12c9a377-0aec-4a1f-8cf6-7a7615dd3be9",
                "language": "python"
            },
            "outputs": [],
            "execution_count": null
        },
        {
            "cell_type": "markdown",
            "source": [
                "## **Convert iterable to a single-column dataframe**\n",
                "- Use this function to convert an iterable (array, list, tuple, etc) into a single-column Pandas dataframe, so that you may directly apply each one of the ETL functions below to this iterable, with no modifications.\n",
                "- Notice that the input of a string will result in a dataframe where each row contains a character."
            ],
            "metadata": {
                "azdata_cell_guid": "325b13a0-5750-4e96-955e-3ac62272bdb6"
            }
        },
        {
            "cell_type": "code",
            "source": [
                "ITERABLE = list_to_be_converted\n",
                "# iterable: object to be converted (list, tuple, array, etc). Input an object here.\n",
                "\n",
                "COLUMN_LABEL = 'column1'\n",
                "# column_lable = string with the name that the column will receive.\n",
                "# Example: column_label = 'column1' will create a dataframe with a column named as 'column1'\n",
                "\n",
                "COLUMN_TYPE = None\n",
                "# column_type = None\n",
                "# Set a specific type for the column: int, str, float, np.datetime64, 'datetime64[ns]', etc.\n",
                "# Examples: column_type = str; column_type = np.float64; column_type = np.datetime64; \n",
                "# column_type = int, column_type = 'datetime64[ns]'\n",
                "# When the parameter is passed, the column will be set as it. If not, the standard read format\n",
                "# will be used.\n",
                "\n",
                "\n",
                "# The dataframe will be stored in the object named 'single_column_df':\n",
                "# Simply modify this object on the left of equality:\n",
                "single_column_df = convert_variable_or_iterable_to_single_column_df (iterable = ITERABLE, column_label = COLUMN_LABEL, column_type = COLUMN_TYPE)"
            ],
            "metadata": {
                "azdata_cell_guid": "246f47bf-a424-4781-8a27-83add2caf6c7",
                "language": "python"
            },
            "outputs": [],
            "execution_count": null
        },
        {
            "cell_type": "markdown",
            "source": [
                "### **Fetching or updating a SQLite database**"
            ],
            "metadata": {
                "azdata_cell_guid": "fd30a174-feb6-4807-9283-1015576a9878",
                "id": "zHUhoX1XyHHm"
            }
        },
        {
            "cell_type": "code",
            "source": [
                "FILE_PATH = '/my_db.db'\n",
                "# FILE_PATH: full path of the SQLite file. It may start with './' or '/', \n",
                "# but with no more than 2 slashes.\n",
                "# It is a string: input in quotes. Example: FILE_PATH = '/my_db.db'\n",
                "\n",
                "TABLE_NAME = 'main_table' \n",
                "# TABLE_NAME: string with the name of the table that will be fetched or updated.\n",
                "# Example: TABLE_NAME = 'main_table'\n",
                "\n",
                "ACTION = 'fetch_table'\n",
                "# ACTION = 'fetch_table' to access a table named TABLE_NAME from the database.\n",
                "# ACTION = 'update_table' to update a table named TABLE_NAME from the database.\n",
                "\n",
                "PRE_CREATED_ENGINE = None\n",
                "# PRE_CREATED_ENGINE = None - if None, a new engine will be created. If an engine was already created, \n",
                "# pass it as argument: PRE_CREATED_ENGINE = engine\n",
                "\n",
                "DATASET = None\n",
                "# DATASET = None - if a table is going to be updated, input here the new Pandas dataframe \n",
                "# (object) correspondent to the table.\n",
                "# Example: DATASET = dataset.\n",
                "\n",
                "\n",
                "# Dataframe correspondent to the fetched (or updated) table returned as sqlite_df.\n",
                "# Engine used for manipulating the database returned as engine.\n",
                "# Simply modify these objects in the left of the equality:\n",
                "sqlite_df, engine = manipulate_sqlite_db (file_path = FILE_PATH, table_name = TABLE_NAME, action = ACTION, pre_created_engine = PRE_CREATED_ENGINE, df = DATASET)"
            ],
            "metadata": {
                "azdata_cell_guid": "fee2c225-f751-4b10-97c8-38a5fae54d13",
                "language": "python"
            },
            "outputs": [],
            "execution_count": null
        },
        {
            "cell_type": "markdown",
            "source": [
                "## **Exporting the dataframe as CSV file (to notebook's workspace)**"
            ],
            "metadata": {
                "azdata_cell_guid": "d5b101c0-0d41-4e63-9def-a883eeec85e8"
            }
        },
        {
            "cell_type": "code",
            "source": [
                "## WARNING: all files exported from this function are .csv (comma separated values)\n",
                "\n",
                "DATAFRAME_OBJ_TO_BE_EXPORTED = dataset\n",
                "# Alternatively: object containing the dataset to be exported.\n",
                "# DATAFRAME_OBJ_TO_BE_EXPORTED: dataframe object that is going to be exported from the\n",
                "# function. Since it is an object (not a string), it should not be declared in quotes.\n",
                "# example: DATAFRAME_OBJ_TO_BE_EXPORTED = dataset will export the dataset object.\n",
                "# ATTENTION: The dataframe object must be a Pandas dataframe.\n",
                "\n",
                "FILE_DIRECTORY_PATH = \"\"\n",
                "# FILE_DIRECTORY_PATH - (string, in quotes): input the path of the directory \n",
                "# (e.g. folder path) where the file is stored. e.g. FILE_DIRECTORY_PATH = \"\" \n",
                "# or FILE_DIRECTORY_PATH = \"folder\"\n",
                "# If you want to export the file to AWS S3, this parameter will have no effect.\n",
                "# In this case, you can set FILE_DIRECTORY_PATH = None\n",
                "\n",
                "NEW_FILE_NAME_WITHOUT_EXTENSION = \"dataset\"\n",
                "# NEW_FILE_NAME_WITHOUT_EXTENSION - (string, in quotes): input the name of the \n",
                "# file without the extension. e.g. set NEW_FILE_NAME_WITHOUT_EXTENSION = \"my_file\" \n",
                "# to export the CSV file 'my_file.csv' to notebook's workspace.\n",
                "\n",
                "export_pd_dataframe_as_csv (dataframe_obj_to_be_exported = DATAFRAME_OBJ_TO_BE_EXPORTED, new_file_name_without_extension = NEW_FILE_NAME_WITHOUT_EXTENSION, file_directory_path = FILE_DIRECTORY_PATH)"
            ],
            "metadata": {
                "azdata_cell_guid": "6571ed9d-2503-400c-9820-02f2d161f039",
                "language": "python"
            },
            "outputs": [],
            "execution_count": null
        },
        {
            "cell_type": "markdown",
            "source": [
                "## **Exporting dataframes as Excel file tables**"
            ],
            "metadata": {
                "azdata_cell_guid": "95ac15c5-be73-4c59-909d-e057f260f39a"
            }
        },
        {
            "cell_type": "code",
            "source": [
                "## WARNING: all files exported from this function are .xlsx\n",
                "\n",
                "FILE_NAME_WITHOUT_EXTENSION = \"datasets\"\n",
                "# (string, in quotes): input the name of the \n",
                "# file without the extension. e.g. new_file_name_without_extension = \"my_file\" \n",
                "# will export a file 'my_file.xlsx' to notebook's workspace.\n",
                "\n",
                "EXPORTED_TABLES = [{'dataframe_obj_to_be_exported': None, \n",
                "                    'excel_sheet_name': None},]\n",
                "\n",
                "# exported_tables is a list of dictionaries. User may declare several dictionaries, \n",
                "# as long as the keys are always the same, and if the values stored in keys are not None.\n",
                "      \n",
                "# key 'dataframe_obj_to_be_exported': dataframe object that is going to be exported from the\n",
                "# function. Since it is an object (not a string), it should not be declared in quotes.\n",
                "# example: dataframe_obj_to_be_exported = dataset will export the dataset object.\n",
                "# ATTENTION: The dataframe object must be a Pandas dataframe.\n",
                "\n",
                "# key 'excel_sheet_name': string containing the name of the sheet to be written on the\n",
                "# exported Excel file. Example: excel_sheet_name = 'tab_1' will save the dataframe in the\n",
                "# sheet 'tab_1' from the file named as file_name_without_extension.\n",
                "\n",
                "# examples: exported_tables = [{'dataframe_obj_to_be_exported': dataset1, \n",
                "# 'excel_sheet_name': 'sheet1'},]\n",
                "# will export only dataset1 as 'sheet1';\n",
                "# exported_tables = [{'dataframe_obj_to_be_exported': dataset1, 'excel_sheet_name': 'sheet1'},\n",
                "# {'dataframe_obj_to_be_exported': dataset2, 'excel_sheet_name': 'sheet2']\n",
                "# will export dataset1 as 'sheet1' and dataset2 as 'sheet2'.\n",
                "\n",
                "# Notice that if the file does not contain the exported sheets, they will be created. If it has,\n",
                "# the sheets will be replaced.\n",
                "\n",
                "FILE_DIRECTORY_PATH = \"\"\n",
                "# FILE_DIRECTORY_PATH - (string, in quotes): input the path of the directory \n",
                "# (e.g. folder path) where the file is stored. e.g. FILE_DIRECTORY_PATH = \"\" \n",
                "# or FILE_DIRECTORY_PATH = \"folder\"\n",
                "# If you want to export the file to AWS S3, this parameter will have no effect.\n",
                "# In this case, you can set FILE_DIRECTORY_PATH = None\n",
                "\n",
                "\n",
                "export_pd_dataframe_as_excel (file_name_without_extension = FILE_NAME_WITHOUT_EXTENSION, exported_tables = EXPORTED_TABLES, file_directory_path = FILE_DIRECTORY_PATH)"
            ],
            "metadata": {
                "azdata_cell_guid": "3eb526be-5fba-4660-ad80-b60bf9a1364a",
                "language": "python"
            },
            "outputs": [],
            "execution_count": null
        },
        {
            "cell_type": "markdown",
            "source": [
                "### **Importing or exporting models and dictionaries (or lists)**"
            ],
            "metadata": {
                "azdata_cell_guid": "56b1cd2d-6faf-4f8d-903f-091a28459b32"
            }
        },
        {
            "cell_type": "markdown",
            "source": [
                "#### Case 1: import only a model"
            ],
            "metadata": {
                "azdata_cell_guid": "a088a52c-4290-41a4-a408-c16a269c488b"
            }
        },
        {
            "cell_type": "code",
            "source": [
                "ACTION = 'import'\n",
                "# ACTION = 'import' for importing a model and/or a dictionary;\n",
                "# ACTION = 'export' for exporting a model and/or a dictionary.\n",
                "\n",
                "OBJECTS_MANIPULATED = 'model_only'\n",
                "# OBJECTS_MANIPULATED = 'model_only' if only a model will be manipulated.\n",
                "# OBJECTS_MANIPULATED = 'dict_or_list_only' if only a dictionary will be manipulated.\n",
                "# OBJECTS_MANIPULATED = 'model_and_dict' if both a model and a dictionary will \n",
                "#  be manipulated.\n",
                "\n",
                "MODEL_FILE_NAME = None\n",
                "# MODEL_FILE_NAME: string with the name of the file containing the model (for 'import');\n",
                "# or of the name that the exported file will have (for 'export')\n",
                "# e.g. MODEL_FILE_NAME = 'model'\n",
                "# WARNING: Do not add the file extension.\n",
                "# Keep it in quotes. Keep MODEL_FILE_NAME = None if no model will be manipulated.\n",
                "\n",
                "DICTIONARY_OR_LIST_FILE_NAME = None\n",
                "# DICTIONARY_OR_LIST_FILE_NAME: string with the name of the file containing the dictionary \n",
                "# (for 'import');\n",
                "# or of the name that the exported file will have (for 'export')\n",
                "# e.g. DICTIONARY_OR_LIST_FILE_NAME = 'history_dict'\n",
                "# WARNING: Do not add the file extension.\n",
                "# Keep it in quotes. Keep DICTIONARY_OR_LIST_FILE_NAME = None if no dictionary \n",
                "# or list will be manipulated.\n",
                "\n",
                "DIRECTORY_PATH = ''\n",
                "# DIRECTORY_PATH: path of the directory where the model will be saved,\n",
                "# or from which the model will be retrieved. If no value is provided,\n",
                "# the DIRECTORY_PATH will be the root: \"\"\n",
                "# Notice that the model and the dictionary must be stored in the same path.\n",
                "# If a model and a dictionary will be exported, they will be stored in the same\n",
                "# DIRECTORY_PATH.\n",
                "    \n",
                "MODEL_TYPE = 'arima'\n",
                "# This parameter has effect only when a model will be manipulated.\n",
                "# MODEL_TYPE: 'keras' for deep learning Keras/ TensorFlow models with extension .keras\n",
                "# MODEL_TYPE: 'tensorflow_general' for generic deep learning tensorflow models containing \n",
                "# custom layers, losses and architectures. Such models are compressed as tar.gz, tar, or zip.\n",
                "# MODEL_TYPE = 'sklearn' for models from Scikit-learn (non-deep learning)\n",
                "# MODEL_TYPE = 'xgb_regressor' for XGBoost regression models (non-deep learning)\n",
                "# MODEL_TYPE = 'xgb_classifier' for XGBoost classification models (non-deep learning)\n",
                "# MODEL_TYPE = 'arima' for ARIMA model (Statsmodels)\n",
                "# MODEL_TYPE = 'prophet' for Facebook Prophet model\n",
                "# MODEL_TYPE = 'anomaly_detector' for the Anomaly Detection model\n",
                "\n",
                "DICT_OR_LIST_TO_EXPORT = None\n",
                "MODEL_TO_EXPORT = None \n",
                "# These two parameters have effect only when ACTION == 'export'. In this case, they\n",
                "# must be declared. If ACTION == 'export', keep:\n",
                "# DICT_OR_LIST_TO_EXPORT = None, \n",
                "# MODEL_TO_EXPORT = None\n",
                "# If one of these objects will be exported, substitute None by the name of the object\n",
                "# e.g. if your model is stored in the global memory as 'keras_model' declare:\n",
                "# MODEL_TO_EXPORT = keras_model. Notice that it must be declared without quotes, since\n",
                "# it is not a string, but an object.\n",
                "# For exporting a dictionary named as 'dict':\n",
                "# DICT_OR_LIST_TO_EXPORT = dict\n",
                "\n",
                "USE_COLAB_MEMORY = False\n",
                "# USE_COLAB_MEMORY: this parameter has only effect when using Google Colab (or it will\n",
                "# raise an error). Set as USE_COLAB_MEMORY = True if you want to use the instant memory\n",
                "# from Google Colaboratory: you will update or download the file and it will be available\n",
                "# only during the time when the kernel is running. It will be excluded when the kernel\n",
                "# dies, for instance, when you close the notebook.\n",
                "    \n",
                "# If ACTION == 'export' and USE_COLAB_MEMORY == True, then the file will be downloaded\n",
                "# to your computer (running the cell will start the download).\n",
                "\n",
                "# Model object saved as model.\n",
                "# Simply modify this object on the left of equality:\n",
                "model = import_export_model_list_dict (action = ACTION, objects_manipulated = OBJECTS_MANIPULATED, model_file_name = MODEL_FILE_NAME, dictionary_or_list_file_name = DICTIONARY_OR_LIST_FILE_NAME, directory_path = DIRECTORY_PATH, model_type = MODEL_TYPE, dict_or_list_to_export = DICT_OR_LIST_TO_EXPORT, model_to_export = MODEL_TO_EXPORT, use_colab_memory = USE_COLAB_MEMORY) "
            ],
            "metadata": {
                "azdata_cell_guid": "7c522ce7-dbad-4627-9c79-58795f1e3953",
                "language": "python"
            },
            "outputs": [],
            "execution_count": null
        },
        {
            "cell_type": "markdown",
            "source": [
                "#### Case 2: import only a dictionary or a list"
            ],
            "metadata": {
                "azdata_cell_guid": "fb2f487a-cfc1-43ec-8da8-9185e2d829b3"
            }
        },
        {
            "cell_type": "code",
            "source": [
                "ACTION = 'import'\n",
                "# ACTION = 'import' for importing a model and/or a dictionary;\n",
                "# ACTION = 'export' for exporting a model and/or a dictionary.\n",
                "\n",
                "OBJECTS_MANIPULATED = 'dict_or_list_only'\n",
                "# OBJECTS_MANIPULATED = 'model_only' if only a model will be manipulated.\n",
                "# OBJECTS_MANIPULATED = 'dict_or_list_only' if only a dictionary will be manipulated.\n",
                "# OBJECTS_MANIPULATED = 'model_and_dict' if both a model and a dictionary will \n",
                "#  be manipulated.\n",
                "\n",
                "MODEL_FILE_NAME = None\n",
                "# MODEL_FILE_NAME: string with the name of the file containing the model (for 'import');\n",
                "# or of the name that the exported file will have (for 'export')\n",
                "# e.g. MODEL_FILE_NAME = 'model'\n",
                "# WARNING: Do not add the file extension.\n",
                "# Keep it in quotes. Keep MODEL_FILE_NAME = None if no model will be manipulated.\n",
                "\n",
                "DICTIONARY_OR_LIST_FILE_NAME = None\n",
                "# DICTIONARY_OR_LIST_FILE_NAME: string with the name of the file containing the dictionary \n",
                "# (for 'import');\n",
                "# or of the name that the exported file will have (for 'export')\n",
                "# e.g. DICTIONARY_OR_LIST_FILE_NAME = 'history_dict'\n",
                "# WARNING: Do not add the file extension.\n",
                "# Keep it in quotes. Keep DICTIONARY_OR_LIST_FILE_NAME = None if no dictionary \n",
                "# or list will be manipulated.\n",
                "\n",
                "DIRECTORY_PATH = ''\n",
                "# DIRECTORY_PATH: path of the directory where the model will be saved,\n",
                "# or from which the model will be retrieved. If no value is provided,\n",
                "# the DIRECTORY_PATH will be the root: \"\"\n",
                "# Notice that the model and the dictionary must be stored in the same path.\n",
                "# If a model and a dictionary will be exported, they will be stored in the same\n",
                "# DIRECTORY_PATH.\n",
                "    \n",
                "MODEL_TYPE = 'arima'\n",
                "# This parameter has effect only when a model will be manipulated.\n",
                "# MODEL_TYPE: 'keras' for deep learning Keras/ TensorFlow models with extension .keras\n",
                "# MODEL_TYPE: 'tensorflow_general' for generic deep learning tensorflow models containing \n",
                "# custom layers, losses and architectures. Such models are compressed as tar.gz, tar, or zip.\n",
                "# MODEL_TYPE = 'sklearn' for models from Scikit-learn (non-deep learning)\n",
                "# MODEL_TYPE = 'xgb_regressor' for XGBoost regression models (non-deep learning)\n",
                "# MODEL_TYPE = 'xgb_classifier' for XGBoost classification models (non-deep learning)\n",
                "# MODEL_TYPE = 'arima' for ARIMA model (Statsmodels)\n",
                "# MODEL_TYPE = 'prophet' for Facebook Prophet model\n",
                "# MODEL_TYPE = 'anomaly_detector' for the Anomaly Detection model\n",
                "\n",
                "DICT_OR_LIST_TO_EXPORT = None\n",
                "MODEL_TO_EXPORT = None \n",
                "# These two parameters have effect only when ACTION == 'export'. In this case, they\n",
                "# must be declared. If ACTION == 'export', keep:\n",
                "# DICT_OR_LIST_TO_EXPORT = None, \n",
                "# MODEL_TO_EXPORT = None\n",
                "# If one of these objects will be exported, substitute None by the name of the object\n",
                "# e.g. if your model is stored in the global memory as 'keras_model' declare:\n",
                "# MODEL_TO_EXPORT = keras_model. Notice that it must be declared without quotes, since\n",
                "# it is not a string, but an object.\n",
                "# For exporting a dictionary named as 'dict':\n",
                "# DICT_OR_LIST_TO_EXPORT = dict\n",
                "\n",
                "USE_COLAB_MEMORY = False\n",
                "# USE_COLAB_MEMORY: this parameter has only effect when using Google Colab (or it will\n",
                "# raise an error). Set as USE_COLAB_MEMORY = True if you want to use the instant memory\n",
                "# from Google Colaboratory: you will update or download the file and it will be available\n",
                "# only during the time when the kernel is running. It will be excluded when the kernel\n",
                "# dies, for instance, when you close the notebook.\n",
                "    \n",
                "# If ACTION == 'export' and USE_COLAB_MEMORY == True, then the file will be downloaded\n",
                "# to your computer (running the cell will start the download).\n",
                "\n",
                "# Dictionary or list saved as imported_dict_or_list.\n",
                "# Simply modify this object on the left of equality:\n",
                "imported_dict_or_list = import_export_model_list_dict (action = ACTION, objects_manipulated = OBJECTS_MANIPULATED, model_file_name = MODEL_FILE_NAME, dictionary_or_list_file_name = DICTIONARY_OR_LIST_FILE_NAME, directory_path = DIRECTORY_PATH, model_type = MODEL_TYPE, dict_or_list_to_export = DICT_OR_LIST_TO_EXPORT, model_to_export = MODEL_TO_EXPORT, use_colab_memory = USE_COLAB_MEMORY) "
            ],
            "metadata": {
                "azdata_cell_guid": "702ab4cc-5725-4b3d-9c0d-838becf8865a",
                "language": "python"
            },
            "outputs": [],
            "execution_count": null
        },
        {
            "cell_type": "markdown",
            "source": [
                "#### Case 3: import a model and a dictionary (or a list)"
            ],
            "metadata": {
                "azdata_cell_guid": "a29bd908-a257-4173-81da-4a1206462246"
            }
        },
        {
            "cell_type": "code",
            "source": [
                "ACTION = 'import'\n",
                "# ACTION = 'import' for importing a model and/or a dictionary;\n",
                "# ACTION = 'export' for exporting a model and/or a dictionary.\n",
                "\n",
                "OBJECTS_MANIPULATED = 'model_and_dict'\n",
                "# OBJECTS_MANIPULATED = 'model_only' if only a model will be manipulated.\n",
                "# OBJECTS_MANIPULATED = 'dict_or_list_only' if only a dictionary will be manipulated.\n",
                "# OBJECTS_MANIPULATED = 'model_and_dict' if both a model and a dictionary will \n",
                "#  be manipulated.\n",
                "\n",
                "MODEL_FILE_NAME = None\n",
                "# MODEL_FILE_NAME: string with the name of the file containing the model (for 'import');\n",
                "# or of the name that the exported file will have (for 'export')\n",
                "# e.g. MODEL_FILE_NAME = 'model'\n",
                "# WARNING: Do not add the file extension.\n",
                "# Keep it in quotes. Keep MODEL_FILE_NAME = None if no model will be manipulated.\n",
                "\n",
                "DICTIONARY_OR_LIST_FILE_NAME = None\n",
                "# DICTIONARY_OR_LIST_FILE_NAME: string with the name of the file containing the dictionary \n",
                "# (for 'import');\n",
                "# or of the name that the exported file will have (for 'export')\n",
                "# e.g. DICTIONARY_OR_LIST_FILE_NAME = 'history_dict'\n",
                "# WARNING: Do not add the file extension.\n",
                "# Keep it in quotes. Keep DICTIONARY_OR_LIST_FILE_NAME = None if no dictionary \n",
                "# or list will be manipulated.\n",
                "\n",
                "DIRECTORY_PATH = ''\n",
                "# DIRECTORY_PATH: path of the directory where the model will be saved,\n",
                "# or from which the model will be retrieved. If no value is provided,\n",
                "# the DIRECTORY_PATH will be the root: \"\"\n",
                "# Notice that the model and the dictionary must be stored in the same path.\n",
                "# If a model and a dictionary will be exported, they will be stored in the same\n",
                "# DIRECTORY_PATH.\n",
                "    \n",
                "MODEL_TYPE = 'arima'\n",
                "# This parameter has effect only when a model will be manipulated.\n",
                "# MODEL_TYPE: 'keras' for deep learning Keras/ TensorFlow models with extension .keras\n",
                "# MODEL_TYPE: 'tensorflow_general' for generic deep learning tensorflow models containing \n",
                "# custom layers, losses and architectures. Such models are compressed as tar.gz, tar, or zip.\n",
                "# MODEL_TYPE = 'sklearn' for models from Scikit-learn (non-deep learning)\n",
                "# MODEL_TYPE = 'xgb_regressor' for XGBoost regression models (non-deep learning)\n",
                "# MODEL_TYPE = 'xgb_classifier' for XGBoost classification models (non-deep learning)\n",
                "# MODEL_TYPE = 'arima' for ARIMA model (Statsmodels)\n",
                "# MODEL_TYPE = 'prophet' for Facebook Prophet model\n",
                "# MODEL_TYPE = 'anomaly_detector' for the Anomaly Detection model\n",
                "\n",
                "DICT_OR_LIST_TO_EXPORT = None\n",
                "MODEL_TO_EXPORT = None \n",
                "# These two parameters have effect only when ACTION == 'export'. In this case, they\n",
                "# must be declared. If ACTION == 'export', keep:\n",
                "# DICT_OR_LIST_TO_EXPORT = None, \n",
                "# MODEL_TO_EXPORT = None\n",
                "# If one of these objects will be exported, substitute None by the name of the object\n",
                "# e.g. if your model is stored in the global memory as 'keras_model' declare:\n",
                "# MODEL_TO_EXPORT = keras_model. Notice that it must be declared without quotes, since\n",
                "# it is not a string, but an object.\n",
                "# For exporting a dictionary named as 'dict':\n",
                "# DICT_OR_LIST_TO_EXPORT = dict\n",
                "\n",
                "USE_COLAB_MEMORY = False\n",
                "# USE_COLAB_MEMORY: this parameter has only effect when using Google Colab (or it will\n",
                "# raise an error). Set as USE_COLAB_MEMORY = True if you want to use the instant memory\n",
                "# from Google Colaboratory: you will update or download the file and it will be available\n",
                "# only during the time when the kernel is running. It will be excluded when the kernel\n",
                "# dies, for instance, when you close the notebook.\n",
                "    \n",
                "# If ACTION == 'export' and USE_COLAB_MEMORY == True, then the file will be downloaded\n",
                "# to your computer (running the cell will start the download).\n",
                "\n",
                "# Model object saved as model. Dictionary or list saved as imported_dict_or_list.\n",
                "# Simply modify these objects on the left of equality:\n",
                "model, imported_dict_or_list = import_export_model_list_dict (action = ACTION, objects_manipulated = OBJECTS_MANIPULATED, model_file_name = MODEL_FILE_NAME, dictionary_or_list_file_name = DICTIONARY_OR_LIST_FILE_NAME, directory_path = DIRECTORY_PATH, model_type = MODEL_TYPE, dict_or_list_to_export = DICT_OR_LIST_TO_EXPORT, model_to_export = MODEL_TO_EXPORT, use_colab_memory = USE_COLAB_MEMORY) "
            ],
            "metadata": {
                "azdata_cell_guid": "9bb33690-afce-44ab-99ea-72dd94fbfae6",
                "language": "python"
            },
            "outputs": [],
            "execution_count": null
        },
        {
            "cell_type": "markdown",
            "source": [
                "#### Case 4: export a model and/or a dictionary (or a list)"
            ],
            "metadata": {
                "azdata_cell_guid": "f8598bf4-b4e3-45fd-9b5b-4b797d3d447f"
            }
        },
        {
            "cell_type": "code",
            "source": [
                "ACTION = 'export'\n",
                "# ACTION = 'import' for importing a model and/or a dictionary;\n",
                "# ACTION = 'export' for exporting a model and/or a dictionary.\n",
                "\n",
                "OBJECTS_MANIPULATED = 'model_only'\n",
                "# OBJECTS_MANIPULATED = 'model_only' if only a model will be manipulated.\n",
                "# OBJECTS_MANIPULATED = 'dict_or_list_only' if only a dictionary will be manipulated.\n",
                "# OBJECTS_MANIPULATED = 'model_and_dict' if both a model and a dictionary will \n",
                "#  be manipulated.\n",
                "\n",
                "MODEL_FILE_NAME = None\n",
                "# MODEL_FILE_NAME: string with the name of the file containing the model (for 'import');\n",
                "# or of the name that the exported file will have (for 'export')\n",
                "# e.g. MODEL_FILE_NAME = 'model'\n",
                "# WARNING: Do not add the file extension.\n",
                "# Keep it in quotes. Keep MODEL_FILE_NAME = None if no model will be manipulated.\n",
                "\n",
                "DICTIONARY_OR_LIST_FILE_NAME = None\n",
                "# DICTIONARY_OR_LIST_FILE_NAME: string with the name of the file containing the dictionary \n",
                "# (for 'import');\n",
                "# or of the name that the exported file will have (for 'export')\n",
                "# e.g. DICTIONARY_OR_LIST_FILE_NAME = 'history_dict'\n",
                "# WARNING: Do not add the file extension.\n",
                "# Keep it in quotes. Keep DICTIONARY_OR_LIST_FILE_NAME = None if no dictionary \n",
                "# or list will be manipulated.\n",
                "\n",
                "DIRECTORY_PATH = ''\n",
                "# DIRECTORY_PATH: path of the directory where the model will be saved,\n",
                "# or from which the model will be retrieved. If no value is provided,\n",
                "# the DIRECTORY_PATH will be the root: \"\"\n",
                "# Notice that the model and the dictionary must be stored in the same path.\n",
                "# If a model and a dictionary will be exported, they will be stored in the same\n",
                "# DIRECTORY_PATH.\n",
                "    \n",
                "MODEL_TYPE = 'arima'\n",
                "# This parameter has effect only when a model will be manipulated.\n",
                "# MODEL_TYPE: 'keras' for deep learning Keras/ TensorFlow models with extension .keras\n",
                "# MODEL_TYPE: 'tensorflow_general' for generic deep learning tensorflow models containing \n",
                "# custom layers, losses and architectures. Such models are compressed as tar.gz, tar, or zip.\n",
                "# MODEL_TYPE = 'sklearn' for models from Scikit-learn (non-deep learning)\n",
                "# MODEL_TYPE = 'xgb_regressor' for XGBoost regression models (non-deep learning)\n",
                "# MODEL_TYPE = 'xgb_classifier' for XGBoost classification models (non-deep learning)\n",
                "# MODEL_TYPE = 'arima' for ARIMA model (Statsmodels)\n",
                "# MODEL_TYPE = 'prophet' for Facebook Prophet model\n",
                "# MODEL_TYPE = 'anomaly_detector' for the Anomaly Detection model\n",
                "\n",
                "DICT_OR_LIST_TO_EXPORT = None\n",
                "MODEL_TO_EXPORT = None \n",
                "# These two parameters have effect only when ACTION == 'export'. In this case, they\n",
                "# must be declared. If ACTION == 'export', keep:\n",
                "# DICT_OR_LIST_TO_EXPORT = None, \n",
                "# MODEL_TO_EXPORT = None\n",
                "# If one of these objects will be exported, substitute None by the name of the object\n",
                "# e.g. if your model is stored in the global memory as 'keras_model' declare:\n",
                "# MODEL_TO_EXPORT = keras_model. Notice that it must be declared without quotes, since\n",
                "# it is not a string, but an object.\n",
                "# For exporting a dictionary named as 'dict':\n",
                "# DICT_OR_LIST_TO_EXPORT = dict\n",
                "\n",
                "USE_COLAB_MEMORY = False\n",
                "# USE_COLAB_MEMORY: this parameter has only effect when using Google Colab (or it will\n",
                "# raise an error). Set as USE_COLAB_MEMORY = True if you want to use the instant memory\n",
                "# from Google Colaboratory: you will update or download the file and it will be available\n",
                "# only during the time when the kernel is running. It will be excluded when the kernel\n",
                "# dies, for instance, when you close the notebook.\n",
                "    \n",
                "# If ACTION == 'export' and USE_COLAB_MEMORY == True, then the file will be downloaded\n",
                "# to your computer (running the cell will start the download).\n",
                "\n",
                "import_export_model_list_dict (action = ACTION, objects_manipulated = OBJECTS_MANIPULATED, model_file_name = MODEL_FILE_NAME, dictionary_or_list_file_name = DICTIONARY_OR_LIST_FILE_NAME, directory_path = DIRECTORY_PATH, model_type = MODEL_TYPE, dict_or_list_to_export = DICT_OR_LIST_TO_EXPORT, model_to_export = MODEL_TO_EXPORT, use_colab_memory = USE_COLAB_MEMORY) "
            ],
            "metadata": {
                "azdata_cell_guid": "ec79f893-2521-424b-a574-15abd85c71ec",
                "language": "python"
            },
            "outputs": [],
            "execution_count": null
        },
        {
            "cell_type": "markdown",
            "source": [
                "## **Downloading a file from Google Colab to the local machine; or uploading a file from the machine to Colab's instant memory**"
            ],
            "metadata": {
                "azdata_cell_guid": "31301843-e619-4e57-a2f6-b2d4bc4e0016"
            }
        },
        {
            "cell_type": "markdown",
            "source": [
                "#### Case 1: upload a file to Colab's workspace"
            ],
            "metadata": {
                "azdata_cell_guid": "0642cc6d-1041-4eae-8931-3baa703e67c7"
            }
        },
        {
            "cell_type": "code",
            "source": [
                "ACTION = 'upload'\n",
                "# ACTION = 'download' to download the file to the local machine\n",
                "# ACTION = 'upload' to upload a file from local machine to Google Colab's \n",
                "# instant memory\n",
                "\n",
                "FILE_TO_DOWNLOAD_FROM_COLAB = None\n",
                "# FILE_TO_DOWNLOAD_FROM_COLAB = None. This parameter is obbligatory when\n",
                "# action = 'download'. \n",
                "# Declare as FILE_TO_DOWNLOAD_FROM_COLAB the file that you want to download, with\n",
                "# the correspondent extension.\n",
                "# It should not be declared in quotes.\n",
                "# e.g. to download a dictionary named dict, FILE_TO_DOWNLOAD_FROM_COLAB = 'dict.pkl'\n",
                "# To download a dataframe named df, declare FILE_TO_DOWNLOAD_FROM_COLAB = 'df.csv'\n",
                "# To export a model named keras_model, declare FILE_TO_DOWNLOAD_FROM_COLAB = 'keras_model.keras'\n",
                "\n",
                "# Dictionary storing the uploaded files returned as colab_files_dict.\n",
                "# Simply modify this object on the left of the equality:\n",
                "colab_files_dict = upload_to_or_download_file_from_colab (action = ACTION, file_to_download_from_colab = FILE_TO_DOWNLOAD_FROM_COLAB)"
            ],
            "metadata": {
                "azdata_cell_guid": "f66f143d-244a-4602-8f2f-cf6d18a5ca4d",
                "language": "python"
            },
            "outputs": [],
            "execution_count": null
        },
        {
            "cell_type": "markdown",
            "source": [
                "#### Case 2: download a file from Colab's workspace"
            ],
            "metadata": {
                "azdata_cell_guid": "0b85a533-bc97-48ce-892d-f6b3d0289250"
            }
        },
        {
            "cell_type": "code",
            "source": [
                "ACTION = 'download'\n",
                "# ACTION = 'download' to download the file to the local machine\n",
                "# ACTION = 'upload' to upload a file from local machine to Google Colab's \n",
                "# instant memory\n",
                "\n",
                "FILE_TO_DOWNLOAD_FROM_COLAB = None\n",
                "# FILE_TO_DOWNLOAD_FROM_COLAB = None. This parameter is obbligatory when\n",
                "# action = 'download'. \n",
                "# Declare as FILE_TO_DOWNLOAD_FROM_COLAB the file that you want to download, with\n",
                "# the correspondent extension.\n",
                "# It should not be declared in quotes.\n",
                "# e.g. to download a dictionary named dict, FILE_TO_DOWNLOAD_FROM_COLAB = 'dict.pkl'\n",
                "# To download a dataframe named df, declare FILE_TO_DOWNLOAD_FROM_COLAB = 'df.csv'\n",
                "# To export a model nameACTION = 'upload'\n",
                "# ACTION = 'download' to download the file to the local machine\n",
                "# ACTION = 'upload' to upload a file from local machine to Google Colab's \n",
                "# instant memory\n",
                "\n",
                "upload_to_or_download_file_from_colab (action = ACTION, file_to_download_from_colab = FILE_TO_DOWNLOAD_FROM_COLAB)"
            ],
            "metadata": {
                "azdata_cell_guid": "3429b211-f0b6-49f0-9d46-a2ea63e1714c",
                "language": "python"
            },
            "outputs": [],
            "execution_count": null
        },
        {
            "cell_type": "markdown",
            "source": [
                "## **Exporting a list of files from notebook's workspace to AWS Simple Storage Service (S3)**"
            ],
            "metadata": {
                "azdata_cell_guid": "8a9d52bf-4b1c-4236-b812-58662e8c614a"
            }
        },
        {
            "cell_type": "code",
            "source": [
                "LIST_OF_FILE_NAMES_WITH_EXTENSIONS = ['s3_file1.txt', 's3_file2.txt']\n",
                "# LIST_OF_FILE_NAMES_WITH_EXTENSIONS: list containing all the files to export to S3.\n",
                "# Declare it as a list even if only a single file will be exported.\n",
                "# It must be a list of strings containing the file names followed by the extensions.\n",
                "# Example, to a export a single file my_file.ext, where my_file is the name and ext is the\n",
                "# extension:\n",
                "# LIST_OF_FILE_NAMES_WITH_EXTENSIONS = ['my_file.ext']\n",
                "# To export 3 files, file1.ext1, file2.ext2, and file3.ext3:\n",
                "# LIST_OF_FILE_NAMES_WITH_EXTENSIONS = ['file1.ext1', 'file2.ext2', 'file3.ext3']\n",
                "# Other examples:\n",
                "# LIST_OF_FILE_NAMES_WITH_EXTENSIONS = ['Screen_Shot.png', 'dataset.csv']\n",
                "# LIST_OF_FILE_NAMES_WITH_EXTENSIONS = [\"dictionary.pkl\", \"model.keras\"]\n",
                "# LIST_OF_FILE_NAMES_WITH_EXTENSIONS = ['doc.pdf', 'model.dill']\n",
                "\n",
                "DIRECTORY_OF_NOTEBOOK_WORKSPACE_STORING_FILES_TO_EXPORT = ''\n",
                "# DIRECTORY_OF_NOTEBOOK_WORKSPACE_STORING_FILES_TO_EXPORT: directory from notebook's workspace\n",
                "# from which the files will be exported to S3. Keep it None, or\n",
                "# DIRECTORY_OF_NOTEBOOK_WORKSPACE_STORING_FILES_TO_EXPORT = \"/\"; or\n",
                "# DIRECTORY_OF_NOTEBOOK_WORKSPACE_STORING_FILES_TO_EXPORT = '' (empty string) to export from\n",
                "# the root (main) directory.\n",
                "# Alternatively, set as a string containing only the directories and folders, not the file names.\n",
                "# Examples: DIRECTORY_OF_NOTEBOOK_WORKSPACE_STORING_FILES_TO_EXPORT = 'folder1';\n",
                "# DIRECTORY_OF_NOTEBOOK_WORKSPACE_STORING_FILES_TO_EXPORT = 'folder1/folder2/'\n",
                "    \n",
                "# For this function, all exported files must be located in the same directory.\n",
                "\n",
                "S3_BUCKET_NAME = 'my_bucket'\n",
                "## This parameter is obbligatory to access an AWS S3 bucket. Substitute it for a string\n",
                "# with the bucket's name. e.g. s3_bucket_name = \"aws-bucket-1\" access a bucket named as\n",
                "# \"aws-bucket-1\"\n",
                "\n",
                "S3_OBJECT_FOLDER_PREFIX = \"\"\n",
                "# S3_OBJECT_FOLDER_PREFIX = None. Keep it None; or as an empty string \n",
                "# (S3_OBJECT_FOLDER_PREFIX = ''); or as the root \"/\" to import the \n",
                "# whole bucket content, instead of a single object from it.\n",
                "# Alternatively, set it as a string containing the subfolder from the bucket to import:\n",
                "# Suppose that your bucket (admin-created) has four objects with the following object \n",
                "# keys: Development/Projects1.xls; Finance/statement1.pdf; Private/taxdocument.pdf; and\n",
                "# s3-dg.pdf. \n",
                "# The s3-dg.pdf key does not have a prefix, so its object appears directly \n",
                "# at the root level of the bucket. If you open the Development/ folder, you see \n",
                "# the Projects.xlsx object in it.\n",
                "# In summary, if the path of the file is: 'bucket/my_path/.../file.csv'\n",
                "# where 'bucket' is the bucket's name, prefix = 'my_path/.../', without the\n",
                "# 'file.csv' (file name with extension) last part.\n",
                "\n",
                "# So, declare the prefix as S3_OBJECT_FOLDER_PREFIX to import only files from\n",
                "# a given folder (directory) of the bucket.\n",
                "# DO NOT PUT A SLASH before (to the right of) the prefix;\n",
                "# DO NOT ADD THE BUCKET'S NAME TO THE right of the prefix:\n",
                "# S3_OBJECT_FOLDER_PREFIX = \"bucket_directory1/.../bucket_directoryN/\"\n",
                "\n",
                "# Alternatively, provide the full path of a given file if you want to import only it:\n",
                "# S3_OBJECT_FOLDER_PREFIX = \"bucket_directory1/.../bucket_directoryN/my_file.ext\"\n",
                "# where my_file is the file's name, and ext is its extension.\n",
                "\n",
                "\n",
                "# Attention: after running this function for connecting with AWS Simple Storage System (S3), \n",
                "# your 'AWS Access key ID' and your 'Secret access key' will be requested.\n",
                "# The 'Secret access key' will be hidden through dots, so it cannot be visualized or copied by\n",
                "# other users. On the other hand, the same is not true for 'Access key ID', the bucket's name \n",
                "# and the prefix. All of these are sensitive information from the organization.\n",
                "# Therefore, after importing the information, always remember of cleaning the output of this cell\n",
                "# and of removing such information from the strings.\n",
                "# Remember that these data may contain privilege for accessing protected information, \n",
                "# so it should not be used for non-authorized people.\n",
                "\n",
                "# Also, remember of deleting the imported files from the workspace after finishing the analysis.\n",
                "# The costs for storing the files in S3 is quite inferior than those for storing directly in the\n",
                "# workspace. Also, files stored in S3 may be accessed for other users than those with access to\n",
                "# the notebook's workspace.\n",
                "export_files_to_s3 (list_of_file_names_with_extensions = LIST_OF_FILE_NAMES_WITH_EXTENSIONS, directory_of_notebook_workspace_storing_files_to_export = DIRECTORY_OF_NOTEBOOK_WORKSPACE_STORING_FILES_TO_EXPORT, s3_bucket_name = S3_BUCKET_NAME, s3_obj_prefix = S3_OBJECT_FOLDER_PREFIX)"
            ],
            "metadata": {
                "azdata_cell_guid": "0d54edf3-ede3-4cb1-9b18-04dfd3d09eeb",
                "language": "python"
            },
            "outputs": [],
            "execution_count": null
        },
        {
            "cell_type": "markdown",
            "source": [
                "****"
            ],
            "metadata": {
                "azdata_cell_guid": "61af15ba-194d-4817-81b0-010b94ab93e1"
            }
        },
        {
            "cell_type": "markdown",
            "source": [
                "# **Scope in Azure Active Directory (AD) - What is a scope in azure security - Background**\n",
                "- AD: Active Directory allows network administrators to create and manage domains, users, and objects within a network. For example, an admin can create a group of users and give them specific access privileges to certain directories on the server.\n",
                "- The AD is the database that contains the security information and permissions of the users.\n",
                "- By limiting the scope, you limit what resources are at risk if the security principal is ever compromised. In Azure, you can specify a scope at four levels: management group, subscription, resource group, and resource. Scopes are structured in a parent-child relationship.\n",
                "#### Therefore, the Azure scope represents the security privileges of an user."
            ],
            "metadata": {
                "azdata_cell_guid": "b7a5708d-cbc9-4b85-b8bc-9534579b4f08"
            }
        }
    ]
}